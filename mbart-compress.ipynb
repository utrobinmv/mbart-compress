{
 "cells": [
  {
   "cell_type": "code",
   "execution_count": 1,
   "id": "34967ad8",
   "metadata": {},
   "outputs": [],
   "source": [
    "#!pip install sentencepiece\n",
    "#!pip install transformers"
   ]
  },
  {
   "cell_type": "code",
   "execution_count": 2,
   "id": "2c88930e",
   "metadata": {
    "tags": []
   },
   "outputs": [],
   "source": [
    "import torch\n",
    "from transformers import MBart50Tokenizer\n",
    "from transformers import MBartForConditionalGeneration"
   ]
  },
  {
   "cell_type": "code",
   "execution_count": 3,
   "id": "eb48020b",
   "metadata": {
    "tags": []
   },
   "outputs": [],
   "source": [
    "import pandas as pd\n",
    "import csv\n",
    "from collections import Counter\n",
    "from tqdm.auto import tqdm, trange"
   ]
  },
  {
   "cell_type": "code",
   "execution_count": 4,
   "id": "bd87bdda",
   "metadata": {
    "tags": []
   },
   "outputs": [],
   "source": [
    "from sentencepiece import sentencepiece_model_pb2 as spmp"
   ]
  },
  {
   "cell_type": "code",
   "execution_count": 5,
   "id": "05ec2720",
   "metadata": {
    "tags": []
   },
   "outputs": [],
   "source": [
    "model_name = \"facebook/mbart-large-50-many-to-many-mmt\""
   ]
  },
  {
   "cell_type": "code",
   "execution_count": 6,
   "id": "accaf5b3",
   "metadata": {
    "tags": []
   },
   "outputs": [],
   "source": [
    "tokenizer = MBart50Tokenizer.from_pretrained(model_name)"
   ]
  },
  {
   "cell_type": "code",
   "execution_count": 7,
   "id": "004d9e15-dbcc-4b71-b699-b55ee78fa65f",
   "metadata": {
    "tags": []
   },
   "outputs": [
    {
     "data": {
      "text/plain": [
       "('save_models/mbart-large-50-many-to-many-mmt/tokenizer_config.json',\n",
       " 'save_models/mbart-large-50-many-to-many-mmt/special_tokens_map.json',\n",
       " 'save_models/mbart-large-50-many-to-many-mmt/sentencepiece.bpe.model',\n",
       " 'save_models/mbart-large-50-many-to-many-mmt/added_tokens.json')"
      ]
     },
     "execution_count": 7,
     "metadata": {},
     "output_type": "execute_result"
    }
   ],
   "source": [
    "tokenizer.save_pretrained('save_models/mbart-large-50-many-to-many-mmt')"
   ]
  },
  {
   "cell_type": "code",
   "execution_count": 8,
   "id": "4d5c19d1",
   "metadata": {
    "tags": []
   },
   "outputs": [],
   "source": [
    "model = MBartForConditionalGeneration.from_pretrained(model_name)"
   ]
  },
  {
   "cell_type": "code",
   "execution_count": 9,
   "id": "aa7147ca",
   "metadata": {
    "tags": []
   },
   "outputs": [
    {
     "name": "stdout",
     "output_type": "stream",
     "text": [
      "0.41915844455396084\n",
      "0.41915844455396084\n",
      "0.41915844455396084\n"
     ]
    }
   ],
   "source": [
    "def msize(m):\n",
    "    return sum(p.numel() for p in m.parameters())\n",
    "print(msize(model.model.shared) / msize(model))   # 0.3298\n",
    "print(msize(model.model.shared) / msize(model))   # 0.3298\n",
    "print(msize(model.lm_head) / msize(model))  # 0.3298"
   ]
  },
  {
   "cell_type": "code",
   "execution_count": 10,
   "id": "baa13334",
   "metadata": {
    "tags": []
   },
   "outputs": [
    {
     "name": "stderr",
     "output_type": "stream",
     "text": [
      "/tmp/ipykernel_6465/569997408.py:1: ParserWarning: Falling back to the 'python' engine because the 'c' engine does not support regex separators (separators > 1 char and different from '\\s+' are interpreted as regex); you can avoid this warning by specifying engine='python'.\n",
      "  df_ru = pd.read_csv('/mnt/extendet_data/projects/translate-chinese/texts/src-train.txt', sep=\"WWWQweW\", nrows=5000000, names=['text'], header=None)\n"
     ]
    }
   ],
   "source": [
    "df_ru = pd.read_csv('/mnt/extendet_data/projects/translate-chinese/texts/src-train.txt', sep=\"WWWQweW\", nrows=5000000, names=['text'], header=None)"
   ]
  },
  {
   "cell_type": "code",
   "execution_count": 11,
   "id": "b15f240a",
   "metadata": {
    "tags": []
   },
   "outputs": [
    {
     "data": {
      "text/html": [
       "<div>\n",
       "<style scoped>\n",
       "    .dataframe tbody tr th:only-of-type {\n",
       "        vertical-align: middle;\n",
       "    }\n",
       "\n",
       "    .dataframe tbody tr th {\n",
       "        vertical-align: top;\n",
       "    }\n",
       "\n",
       "    .dataframe thead th {\n",
       "        text-align: right;\n",
       "    }\n",
       "</style>\n",
       "<table border=\"1\" class=\"dataframe\">\n",
       "  <thead>\n",
       "    <tr style=\"text-align: right;\">\n",
       "      <th></th>\n",
       "      <th>text</th>\n",
       "    </tr>\n",
       "  </thead>\n",
       "  <tbody>\n",
       "    <tr>\n",
       "      <th>0</th>\n",
       "      <td>Кровавое воскресенье (Кровавое в...)</td>\n",
       "    </tr>\n",
       "    <tr>\n",
       "      <th>1</th>\n",
       "      <td>учитывая также, что терроризм создает обстанов...</td>\n",
       "    </tr>\n",
       "    <tr>\n",
       "      <th>2</th>\n",
       "      <td>«Настало время принять жесткие меры по нормиро...</td>\n",
       "    </tr>\n",
       "    <tr>\n",
       "      <th>3</th>\n",
       "      <td>Краткая информация о проделанной работе</td>\n",
       "    </tr>\n",
       "    <tr>\n",
       "      <th>4</th>\n",
       "      <td>Г-н Харт (Барбадос) (говорит по-английски): Пр...</td>\n",
       "    </tr>\n",
       "    <tr>\n",
       "      <th>...</th>\n",
       "      <td>...</td>\n",
       "    </tr>\n",
       "    <tr>\n",
       "      <th>4999995</th>\n",
       "      <td>Глава компании в ответном слове отметил, что в...</td>\n",
       "    </tr>\n",
       "    <tr>\n",
       "      <th>4999996</th>\n",
       "      <td>Категория: Футболисты по клубам Франции</td>\n",
       "    </tr>\n",
       "    <tr>\n",
       "      <th>4999997</th>\n",
       "      <td>Однако специалисты утверждают, что и количеств...</td>\n",
       "    </tr>\n",
       "    <tr>\n",
       "      <th>4999998</th>\n",
       "      <td>Он - бесстрашным разрушителем колдовских чар.</td>\n",
       "    </tr>\n",
       "    <tr>\n",
       "      <th>4999999</th>\n",
       "      <td>Во многих странах стоимость импортного продово...</td>\n",
       "    </tr>\n",
       "  </tbody>\n",
       "</table>\n",
       "<p>5000000 rows × 1 columns</p>\n",
       "</div>"
      ],
      "text/plain": [
       "                                                      text\n",
       "0                     Кровавое воскресенье (Кровавое в...)\n",
       "1        учитывая также, что терроризм создает обстанов...\n",
       "2        «Настало время принять жесткие меры по нормиро...\n",
       "3                  Краткая информация о проделанной работе\n",
       "4        Г-н Харт (Барбадос) (говорит по-английски): Пр...\n",
       "...                                                    ...\n",
       "4999995  Глава компании в ответном слове отметил, что в...\n",
       "4999996            Категория: Футболисты по клубам Франции\n",
       "4999997  Однако специалисты утверждают, что и количеств...\n",
       "4999998      Он - бесстрашным разрушителем колдовских чар.\n",
       "4999999  Во многих странах стоимость импортного продово...\n",
       "\n",
       "[5000000 rows x 1 columns]"
      ]
     },
     "execution_count": 11,
     "metadata": {},
     "output_type": "execute_result"
    }
   ],
   "source": [
    "df_ru"
   ]
  },
  {
   "cell_type": "code",
   "execution_count": 12,
   "id": "3b9e704c",
   "metadata": {
    "tags": []
   },
   "outputs": [],
   "source": [
    "df_ru.dropna(inplace=True)"
   ]
  },
  {
   "cell_type": "code",
   "execution_count": 13,
   "id": "4ad21cb7",
   "metadata": {
    "tags": []
   },
   "outputs": [
    {
     "name": "stdout",
     "output_type": "stream",
     "text": [
      "учитывая также, что терроризм создает обстановку, которая лишает людей свободы жить без страха,\n"
     ]
    }
   ],
   "source": [
    "print(df_ru.text[1])"
   ]
  },
  {
   "cell_type": "code",
   "execution_count": 14,
   "id": "3f0cfabc",
   "metadata": {
    "tags": []
   },
   "outputs": [
    {
     "data": {
      "application/vnd.jupyter.widget-view+json": {
       "model_id": "20eb1ea506304ad99068c978673ae418",
       "version_major": 2,
       "version_minor": 0
      },
      "text/plain": [
       "  0%|          | 0/4999995 [00:00<?, ?it/s]"
      ]
     },
     "metadata": {},
     "output_type": "display_data"
    }
   ],
   "source": [
    "cnt_ru = Counter()\n",
    "for text in tqdm(df_ru.text):\n",
    "    cnt_ru.update(tokenizer.encode(text))"
   ]
  },
  {
   "cell_type": "code",
   "execution_count": 15,
   "id": "49b2f44c",
   "metadata": {
    "tags": []
   },
   "outputs": [
    {
     "data": {
      "text/plain": [
       "250054"
      ]
     },
     "execution_count": 15,
     "metadata": {},
     "output_type": "execute_result"
    }
   ],
   "source": [
    "tokenizer.vocab_size"
   ]
  },
  {
   "cell_type": "code",
   "execution_count": 16,
   "id": "0829726b",
   "metadata": {
    "tags": []
   },
   "outputs": [
    {
     "name": "stdout",
     "output_type": "stream",
     "text": [
      "62790 0.2511057611555904\n"
     ]
    }
   ],
   "source": [
    "#Русский корпус занимает в общем словаре, такую то долю. 25%\n",
    "print(len(cnt_ru), len(cnt_ru)/tokenizer.vocab_size)  \n",
    "# 62790 0.2511057611555904"
   ]
  },
  {
   "cell_type": "code",
   "execution_count": 21,
   "id": "3fdea6d4",
   "metadata": {
    "tags": []
   },
   "outputs": [
    {
     "name": "stderr",
     "output_type": "stream",
     "text": [
      "/tmp/ipykernel_6465/1733131147.py:1: ParserWarning: Falling back to the 'python' engine because the 'c' engine does not support regex separators (separators > 1 char and different from '\\s+' are interpreted as regex); you can avoid this warning by specifying engine='python'.\n",
      "  df_zh = pd.read_csv('/mnt/extendet_data/projects/translate-chinese/texts/tgt-train.txt', sep=\"WWWQweW\", nrows=5000000, names=['text'], header=None)\n"
     ]
    }
   ],
   "source": [
    "df_zh = pd.read_csv('/mnt/extendet_data/projects/translate-chinese/texts/tgt-train.txt', sep=\"WWWQweW\", nrows=5000000, names=['text'], header=None)"
   ]
  },
  {
   "cell_type": "code",
   "execution_count": 22,
   "id": "020c5d57",
   "metadata": {
    "tags": []
   },
   "outputs": [],
   "source": [
    "df_zh.dropna(inplace=True)"
   ]
  },
  {
   "cell_type": "code",
   "execution_count": 28,
   "id": "a7dcd3cb",
   "metadata": {
    "tags": []
   },
   "outputs": [
    {
     "data": {
      "text/html": [
       "<div>\n",
       "<style scoped>\n",
       "    .dataframe tbody tr th:only-of-type {\n",
       "        vertical-align: middle;\n",
       "    }\n",
       "\n",
       "    .dataframe tbody tr th {\n",
       "        vertical-align: top;\n",
       "    }\n",
       "\n",
       "    .dataframe thead th {\n",
       "        text-align: right;\n",
       "    }\n",
       "</style>\n",
       "<table border=\"1\" class=\"dataframe\">\n",
       "  <thead>\n",
       "    <tr style=\"text-align: right;\">\n",
       "      <th></th>\n",
       "      <th>text</th>\n",
       "    </tr>\n",
       "  </thead>\n",
       "  <tbody>\n",
       "    <tr>\n",
       "      <th>3225249</th>\n",
       "      <td>技经评估小组正努力为各种船舶的现有设备和新设备进一步审查制冷剂备选方案，并预计于2014年4...</td>\n",
       "    </tr>\n",
       "    <tr>\n",
       "      <th>4381118</th>\n",
       "      <td>在世界某些地区的国内产品继续享有大幅度补贴的情况下，便没有建立均衡的贸易条件的希望。</td>\n",
       "    </tr>\n",
       "    <tr>\n",
       "      <th>450478</th>\n",
       "      <td>多种语文和联合国</td>\n",
       "    </tr>\n",
       "    <tr>\n",
       "      <th>2693789</th>\n",
       "      <td>2.54 2012-2013两年期预算已提交大会。</td>\n",
       "    </tr>\n",
       "    <tr>\n",
       "      <th>3900110</th>\n",
       "      <td>23. 审计委员会在上一期间建议人口基金保持正确、完整的休假记录，本报告人力资源管理部分将对...</td>\n",
       "    </tr>\n",
       "  </tbody>\n",
       "</table>\n",
       "</div>"
      ],
      "text/plain": [
       "                                                      text\n",
       "3225249  技经评估小组正努力为各种船舶的现有设备和新设备进一步审查制冷剂备选方案，并预计于2014年4...\n",
       "4381118         在世界某些地区的国内产品继续享有大幅度补贴的情况下，便没有建立均衡的贸易条件的希望。\n",
       "450478                                            多种语文和联合国\n",
       "2693789                          2.54 2012-2013两年期预算已提交大会。\n",
       "3900110  23. 审计委员会在上一期间建议人口基金保持正确、完整的休假记录，本报告人力资源管理部分将对..."
      ]
     },
     "execution_count": 28,
     "metadata": {},
     "output_type": "execute_result"
    }
   ],
   "source": [
    "df_zh.sample(5)"
   ]
  },
  {
   "cell_type": "code",
   "execution_count": null,
   "id": "3e0a38af",
   "metadata": {
    "tags": []
   },
   "outputs": [
    {
     "data": {
      "application/vnd.jupyter.widget-view+json": {
       "model_id": "fd9a97d12a6c4f23bb6f72ad1056a8a0",
       "version_major": 2,
       "version_minor": 0
      },
      "text/plain": [
       "  0%|          | 0/4999974 [00:00<?, ?it/s]"
      ]
     },
     "metadata": {},
     "output_type": "display_data"
    }
   ],
   "source": [
    "cnt_zh = Counter()\n",
    "for text in tqdm(df_zh.text):\n",
    "    cnt_zh.update(tokenizer.encode(text))"
   ]
  },
  {
   "cell_type": "code",
   "execution_count": 29,
   "id": "a80542da",
   "metadata": {
    "tags": []
   },
   "outputs": [
    {
     "name": "stdout",
     "output_type": "stream",
     "text": [
      "64575 0.25824421924864227\n"
     ]
    }
   ],
   "source": [
    "#Китайский корпус занимает в общем словаре, такую то долю. 25%\n",
    "print(len(cnt_zh), len(cnt_zh)/tokenizer.vocab_size)  \n",
    "# 64575 0.25824421924864227"
   ]
  },
  {
   "cell_type": "code",
   "execution_count": 30,
   "id": "bd85bf19",
   "metadata": {
    "tags": []
   },
   "outputs": [
    {
     "name": "stdout",
     "output_type": "stream",
     "text": [
      "10000 0.9669254292671258\n",
      "20000 0.9945023243662758\n",
      "30000 0.998594687964201\n"
     ]
    }
   ],
   "source": [
    "#Посмотрим какой процент всех слов мы захватим\n",
    "for top in 10_000, 20_000, 30_000:\n",
    "    print(top, sum(v for k, v in cnt_ru.most_common(top)) / sum(cnt_ru.values()))\n",
    "# 10000 0.9645\n",
    "# 20000 0.9940\n",
    "# 30000 0.9982"
   ]
  },
  {
   "cell_type": "code",
   "execution_count": 31,
   "id": "56532cd6",
   "metadata": {
    "tags": []
   },
   "outputs": [
    {
     "name": "stdout",
     "output_type": "stream",
     "text": [
      "10000 0.9727450863454133\n",
      "20000 0.9930192174410284\n",
      "30000 0.997806606426593\n"
     ]
    }
   ],
   "source": [
    "#Посмотрим какой процент всех слов мы захватим\n",
    "for top in 10_000, 20_000, 30_000:\n",
    "    print(top, sum(v for k, v in cnt_zh.most_common(top)) / sum(cnt_zh.values()))\n",
    "# 10000 0.9645\n",
    "# 20000 0.9940\n",
    "# 30000 0.9982"
   ]
  },
  {
   "cell_type": "code",
   "execution_count": 32,
   "id": "c202edf7",
   "metadata": {
    "tags": []
   },
   "outputs": [],
   "source": [
    "#Формируем список всех слов new_tokens\n",
    "new_tokens = set(range(1000))\n",
    "for i, (k, v) in enumerate(cnt_zh.most_common(30_000)):\n",
    "    if k not in new_tokens:\n",
    "        new_tokens.add(k)\n",
    "for i, (k, v) in enumerate(cnt_ru.most_common(25_000)):\n",
    "    if k not in new_tokens:\n",
    "        new_tokens.add(k)"
   ]
  },
  {
   "cell_type": "code",
   "execution_count": 33,
   "id": "665115cb",
   "metadata": {
    "tags": []
   },
   "outputs": [],
   "source": [
    "#Добавим 100 последних токенов\n",
    "for t in range(tokenizer.vocab_size - 100, tokenizer.vocab_size):\n",
    "    new_tokens.add(t)"
   ]
  },
  {
   "cell_type": "code",
   "execution_count": 34,
   "id": "020e6e0a",
   "metadata": {
    "tags": []
   },
   "outputs": [
    {
     "name": "stdout",
     "output_type": "stream",
     "text": [
      "45241\n"
     ]
    }
   ],
   "source": [
    "print(len(new_tokens))\n",
    "kept_ids = sorted(new_tokens)"
   ]
  },
  {
   "cell_type": "code",
   "execution_count": 35,
   "id": "7a82fdb6",
   "metadata": {
    "tags": []
   },
   "outputs": [],
   "source": [
    "new_size = len(kept_ids)"
   ]
  },
  {
   "cell_type": "code",
   "execution_count": 36,
   "id": "df8fb81a",
   "metadata": {
    "tags": []
   },
   "outputs": [
    {
     "data": {
      "text/plain": [
       "Embedding(45241, 1024)"
      ]
     },
     "execution_count": 36,
     "metadata": {},
     "output_type": "execute_result"
    }
   ],
   "source": [
    "new_emb = torch.nn.Embedding(new_size, model.model.shared.embedding_dim)\n",
    "new_emb"
   ]
  },
  {
   "cell_type": "code",
   "execution_count": 37,
   "id": "bbb17dbc-2c73-43ce-ae08-0246b89af8c3",
   "metadata": {
    "tags": []
   },
   "outputs": [
    {
     "data": {
      "text/plain": [
       "Embedding(45241, 1024, padding_idx=1)"
      ]
     },
     "execution_count": 37,
     "metadata": {},
     "output_type": "execute_result"
    }
   ],
   "source": [
    "new_embed_tokens = torch.nn.Embedding(new_size, model.model.shared.embedding_dim, padding_idx=1)\n",
    "new_embed_tokens"
   ]
  },
  {
   "cell_type": "code",
   "execution_count": 38,
   "id": "4f04292b-701f-4044-90d7-de96267dff1a",
   "metadata": {
    "tags": []
   },
   "outputs": [
    {
     "data": {
      "text/plain": [
       "Embedding(45241, 1024, padding_idx=1)"
      ]
     },
     "execution_count": 38,
     "metadata": {},
     "output_type": "execute_result"
    }
   ],
   "source": [
    "new_decoder_tokens = torch.nn.Embedding(new_size, model.model.shared.embedding_dim, padding_idx=1)\n",
    "new_decoder_tokens"
   ]
  },
  {
   "cell_type": "code",
   "execution_count": 39,
   "id": "6c9529df",
   "metadata": {
    "tags": []
   },
   "outputs": [
    {
     "data": {
      "text/plain": [
       "Linear(in_features=1024, out_features=45241, bias=False)"
      ]
     },
     "execution_count": 39,
     "metadata": {},
     "output_type": "execute_result"
    }
   ],
   "source": [
    "new_head = torch.nn.Linear(in_features=model.lm_head.in_features, out_features=new_size, bias=False)\n",
    "new_head"
   ]
  },
  {
   "cell_type": "code",
   "execution_count": 41,
   "id": "036deb5b",
   "metadata": {
    "tags": []
   },
   "outputs": [],
   "source": [
    "for new_id, old_id in enumerate(kept_ids):\n",
    "    new_emb.weight.data[new_id] = model.model.shared.weight.data[old_id]\n",
    "    new_head.weight.data[new_id] = model.lm_head.weight.data[old_id]\n",
    "    new_embed_tokens.weight.data[new_id] = model.model.encoder.embed_tokens.weight.data[old_id]\n",
    "    new_decoder_tokens.weight.data[new_id] = model.model.decoder.embed_tokens.weight.data[old_id]\n",
    "    \n",
    "model.model.shared = new_emb\n",
    "model.lm_head = new_head\n",
    "model.model.encoder.embed_tokens = new_embed_tokens\n",
    "model.model.decoder.embed_tokens = new_decoder_tokens\n",
    "    \n",
    "model.model.shared.weight = new_emb.weight\n",
    "model.lm_head.weight = new_head.weight\n",
    "model.model.encoder.embed_tokens.weight = new_embed_tokens.weight\n",
    "model.model.decoder.embed_tokens.weight = new_decoder_tokens.weight"
   ]
  },
  {
   "cell_type": "code",
   "execution_count": 42,
   "id": "42782c5d",
   "metadata": {
    "tags": []
   },
   "outputs": [],
   "source": [
    "model.config.__dict__['vocab_size'] = new_size\n",
    "model.config.__dict__['_name_or_path'] = 'joefox/mbart-large-ru-zh-many-to-many-mmt'"
   ]
  },
  {
   "cell_type": "code",
   "execution_count": 43,
   "id": "64c7db68",
   "metadata": {
    "tags": []
   },
   "outputs": [
    {
     "data": {
      "text/plain": [
       "5069051"
      ]
     },
     "execution_count": 43,
     "metadata": {},
     "output_type": "execute_result"
    }
   ],
   "source": [
    "sp_model = tokenizer.sp_model\n",
    "smp = tokenizer.sp_model.serialized_model_proto()\n",
    "m = spmp.ModelProto()\n",
    "m.ParseFromString(smp)"
   ]
  },
  {
   "cell_type": "code",
   "execution_count": 45,
   "id": "9209ae87",
   "metadata": {
    "tags": []
   },
   "outputs": [
    {
     "data": {
      "text/plain": [
       "250053"
      ]
     },
     "execution_count": 45,
     "metadata": {},
     "output_type": "execute_result"
    }
   ],
   "source": [
    "max_ids = max(kept_ids)\n",
    "max_ids"
   ]
  },
  {
   "cell_type": "code",
   "execution_count": 46,
   "id": "f0ae42d3",
   "metadata": {
    "tags": []
   },
   "outputs": [
    {
     "data": {
      "text/plain": [
       "53"
      ]
     },
     "execution_count": 46,
     "metadata": {},
     "output_type": "execute_result"
    }
   ],
   "source": [
    "add_ids = max_ids - len(m.pieces)\n",
    "add_ids"
   ]
  },
  {
   "cell_type": "code",
   "execution_count": 47,
   "id": "7865464e",
   "metadata": {
    "tags": []
   },
   "outputs": [
    {
     "name": "stdout",
     "output_type": "stream",
     "text": [
      "the loaded model has pieces: 250000\n",
      "the new pieces: 45183\n"
     ]
    }
   ],
   "source": [
    "m_ids = []\n",
    "m_token = []\n",
    "print('the loaded model has pieces:', len(m.pieces))\n",
    "#new_pieces = [m.pieces[idx] for idx in kept_ids]\n",
    "new_pieces = []\n",
    "for idx in kept_ids:\n",
    "    if idx < len(m.pieces) and (idx > 3):\n",
    "        token = tokenizer._convert_id_to_token(idx)\n",
    "        spm_id = sp_model.PieceToId(token)\n",
    "        m_ids.append(spm_id)\n",
    "        m_token.append(token)\n",
    "        new_pieces.append(m.pieces[spm_id])\n",
    "        pass\n",
    "print('the new pieces:', len(new_pieces))"
   ]
  },
  {
   "cell_type": "code",
   "execution_count": 48,
   "id": "696af818",
   "metadata": {
    "tags": []
   },
   "outputs": [
    {
     "data": {
      "text/plain": [
       "(45183, 45236)"
      ]
     },
     "execution_count": 48,
     "metadata": {},
     "output_type": "execute_result"
    }
   ],
   "source": [
    "len(new_pieces), len(new_pieces)+ add_ids"
   ]
  },
  {
   "cell_type": "code",
   "execution_count": 49,
   "id": "55f934ff",
   "metadata": {
    "tags": []
   },
   "outputs": [],
   "source": [
    "list_ids = []\n",
    "# replace the content of the first 30K pieces\n",
    "for i, p in enumerate(new_pieces):\n",
    "    # if i in fairseq_tokens:\n",
    "    idx = i + 3\n",
    "    # else:\n",
    "    #    idx = i+tokenizer.fairseq_offset\n",
    "    m.pieces[idx].piece = p.piece\n",
    "    m.pieces[idx].score = p.score\n",
    "    m.pieces[idx].type = p.type\n",
    "    list_ids.append(idx)"
   ]
  },
  {
   "cell_type": "code",
   "execution_count": 50,
   "id": "2e58899d-5cb1-495c-80ce-f23996c24207",
   "metadata": {
    "tags": []
   },
   "outputs": [
    {
     "data": {
      "text/plain": [
       "(250000, 45183)"
      ]
     },
     "execution_count": 50,
     "metadata": {},
     "output_type": "execute_result"
    }
   ],
   "source": [
    "len(m.pieces), len(new_pieces)"
   ]
  },
  {
   "cell_type": "code",
   "execution_count": 51,
   "id": "1c754846",
   "metadata": {
    "tags": []
   },
   "outputs": [
    {
     "data": {
      "application/vnd.jupyter.widget-view+json": {
       "model_id": "914bd1a595d34802a47c19118d0951de",
       "version_major": 2,
       "version_minor": 0
      },
      "text/plain": [
       "  0%|          | 0/204813 [00:00<?, ?it/s]"
      ]
     },
     "metadata": {},
     "output_type": "display_data"
    }
   ],
   "source": [
    "# drop the remaining pieces\n",
    "n = len(new_pieces) + 4\n",
    "for i in trange(len(m.pieces) - n):\n",
    "    m.pieces.pop(len(m.pieces) - 1)"
   ]
  },
  {
   "cell_type": "code",
   "execution_count": 52,
   "id": "0614071b-d544-4b16-b4b8-6b1e7e093b61",
   "metadata": {
    "tags": []
   },
   "outputs": [
    {
     "data": {
      "text/plain": [
       "45187"
      ]
     },
     "execution_count": 52,
     "metadata": {},
     "output_type": "execute_result"
    }
   ],
   "source": [
    "len(m.pieces)"
   ]
  },
  {
   "cell_type": "code",
   "execution_count": 53,
   "id": "6b5121d1",
   "metadata": {
    "tags": []
   },
   "outputs": [
    {
     "name": "stdout",
     "output_type": "stream",
     "text": [
      "45187\n"
     ]
    }
   ],
   "source": [
    "print(len(m.pieces))\n",
    "with open('new_sp.model', 'wb') as f:\n",
    "    f.write(m.SerializeToString())\n"
   ]
  },
  {
   "cell_type": "code",
   "execution_count": 54,
   "id": "090e4e35-2034-4f54-9ce6-fb74cba2cde6",
   "metadata": {
    "tags": []
   },
   "outputs": [
    {
     "data": {
      "text/plain": [
       "MBart50Tokenizer(name_or_path='', vocab_size=45241, model_max_length=1000000000000000019884624838656, is_fast=False, padding_side='right', truncation_side='right', special_tokens={'eos_token': '</s>', 'unk_token': '<unk>', 'sep_token': '</s>', 'pad_token': '<pad>', 'cls_token': '<s>', 'mask_token': AddedToken(\"<mask>\", rstrip=False, lstrip=True, single_word=False, normalized=True), 'additional_special_tokens': ['ar_AR', 'cs_CZ', 'de_DE', 'en_XX', 'es_XX', 'et_EE', 'fi_FI', 'fr_XX', 'gu_IN', 'hi_IN', 'it_IT', 'ja_XX', 'kk_KZ', 'ko_KR', 'lt_LT', 'lv_LV', 'my_MM', 'ne_NP', 'nl_XX', 'ro_RO', 'ru_RU', 'si_LK', 'tr_TR', 'vi_VN', 'zh_CN', 'af_ZA', 'az_AZ', 'bn_IN', 'fa_IR', 'he_IL', 'hr_HR', 'id_ID', 'ka_GE', 'km_KH', 'mk_MK', 'ml_IN', 'mn_MN', 'mr_IN', 'pl_PL', 'ps_AF', 'pt_XX', 'sv_SE', 'sw_KE', 'ta_IN', 'te_IN', 'th_TH', 'tl_XX', 'uk_UA', 'ur_PK', 'xh_ZA', 'gl_ES', 'sl_SI']})"
      ]
     },
     "execution_count": 54,
     "metadata": {},
     "output_type": "execute_result"
    }
   ],
   "source": [
    "new_tokenizer = MBart50Tokenizer('new_sp.model')\n",
    "new_tokenizer"
   ]
  },
  {
   "cell_type": "code",
   "execution_count": 55,
   "id": "969cfea7-444e-4ef5-a8f6-2c99fc1e17f6",
   "metadata": {
    "tags": []
   },
   "outputs": [
    {
     "data": {
      "text/plain": [
       "'/srv/dev-disk-by-uuid-fa7c0d11-e6eb-484b-858c-52bb87843d42/home/joefox/.cache/huggingface/hub/models--facebook--mbart-large-50-many-to-many-mmt/snapshots/e2cfb9f4d0cfb8879734094041a08c37397b3177/sentencepiece.bpe.model'"
      ]
     },
     "execution_count": 55,
     "metadata": {},
     "output_type": "execute_result"
    }
   ],
   "source": [
    "tokenizer.vocab_file"
   ]
  },
  {
   "cell_type": "code",
   "execution_count": 56,
   "id": "22e25403",
   "metadata": {
    "tags": []
   },
   "outputs": [],
   "source": [
    "new_tokenizer.save_pretrained('save_models/mbart-large-ru-zh-many-to-many-mmt')\n",
    "model.save_pretrained('save_models/mbart-large-ru-zh-many-to-many-mmt')"
   ]
  },
  {
   "cell_type": "code",
   "execution_count": 58,
   "id": "4432d80a",
   "metadata": {
    "tags": []
   },
   "outputs": [
    {
     "name": "stderr",
     "output_type": "stream",
     "text": [
      "Some weights of MBartForConditionalGeneration were not initialized from the model checkpoint at save_models/mbart-large-ru-zh-many-to-many-mmt and are newly initialized because the shapes did not match:\n",
      "- final_logits_bias: found shape torch.Size([1, 250054]) in the checkpoint and torch.Size([1, 45241]) in the model instantiated\n",
      "You should probably TRAIN this model on a down-stream task to be able to use it for predictions and inference.\n"
     ]
    }
   ],
   "source": [
    "model = MBartForConditionalGeneration.from_pretrained('save_models/mbart-large-ru-zh-many-to-many-mmt', ignore_mismatched_sizes=True)"
   ]
  },
  {
   "cell_type": "code",
   "execution_count": null,
   "id": "6669631f-c15b-4a02-9d05-1f9506c19f8e",
   "metadata": {},
   "outputs": [],
   "source": []
  }
 ],
 "metadata": {
  "kernelspec": {
   "display_name": "Python 3 (ipykernel)",
   "language": "python",
   "name": "python3"
  },
  "language_info": {
   "codemirror_mode": {
    "name": "ipython",
    "version": 3
   },
   "file_extension": ".py",
   "mimetype": "text/x-python",
   "name": "python",
   "nbconvert_exporter": "python",
   "pygments_lexer": "ipython3",
   "version": "3.9.2"
  }
 },
 "nbformat": 4,
 "nbformat_minor": 5
}
